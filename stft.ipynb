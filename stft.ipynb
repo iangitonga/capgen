{
  "cells": [
    {
      "cell_type": "markdown",
      "id": "a9d3fc65",
      "metadata": {
        "id": "a9d3fc65"
      },
      "source": [
        "Whisper audio preprocessing process:\n",
        "- We are given an array A representing the audio signal samples.\n",
        "- The audio signal A is resampled at a sampling rate of 16000Hz.\n",
        "- A stft is performed using a hann window of size 400(25ms) and hop length of 160(10ms).\n",
        "- The stft results are squared\n",
        "- The stft frequencies are converted to mel scale.\n",
        "- We take the log of the results."
      ]
    },
    {
      "cell_type": "markdown",
      "id": "906ce527",
      "metadata": {
        "id": "906ce527"
      },
      "source": [
        "The discrete fourier transform(dft):\n",
        "- To perform an stft(short-time fourier transform) on the signal we apply dft on 25ms segments.\n",
        "- The dft converts the audio signal from the time domain to frequency domain.\n",
        "- Essentially, it computes the magnitudes of the frequencies of pure sine/cosine waves that make up\n",
        "  the original signal when added together.\n",
        "- The conversion from time domain to frequency domain is motivated by the fact that human auditory\n",
        "  system also performs something akin to dft known as frequency selectivity[1].\n",
        "- The frequency representation also performs better in practice than raw audio[2]. Well, for some tasks atleast.\n",
        "- When converting from time domain to signal domain, we first need to know what range of frequencies\n",
        "  of pure tones that make up the original signal in order to calculate their magnitudes.\n",
        "- The Nyquist–Shannon sampling theorem implies that our signal, which has is sampled at 16000Hz, cannot contain frequencies greater\n",
        "  than 16000Hz/2 = 8000Hz. Thus the frequency range of our audio is 0Hz - 8000Hz.\n",
        "- The key to finding the magnitudes of each of the frequency in the frequency range is by using\n",
        "  cross-correlation.\n",
        "- Cross-correlation is a function of two signals of the same length that calculates how close the two signals are.\n",
        "- Given two signals f and g with each with N samples, it is given by $$\\sum_{t=0}^{N-1}f(t)g(t)$$\n",
        "- Intuitively, if the signals are positively correlated, we expect a large positive number. If they are negatively correlated\n",
        "  we expect a large negative number. If they are not correlated we expect a number close to zero.\n",
        "- Given a signal f, we can obtain a magnitude for a sinusoid with frequency k, using the following formula:\n",
        "   $$F[k] = \\frac{1}{N} \\sum_{t=0}^{N-1}f(t)e^\\frac{-i2\\pi kt}{N}$$\n",
        "- The above formula is a cross-correlation between the given signal and a sum of two pure signals, namely, sine and cosine.\n",
        "  We use both sine and cosine to ensure that we capture the magnitude of the sinusoid with frequency k regardless of its phase.\n",
        "- The formula can be expanded as follows:\n",
        "  $$F[k] = \\frac{1}{N} \\sum_{t=0}^{N-1}f(t)[\\cos(\\frac{2\\pi kt}{N}) + i\\sin(\\frac{2\\pi kt}{N})]$$\n",
        "- To simplify further, we can decompose the single sum into two sums, one with the cosine term and the other with the sine term as follows:\n",
        "  $$F[k] = \\frac{1}{N} \\sum_{t=0}^{N-1}f(t)\\cos(\\frac{2\\pi kt}{N}) + \\frac{1}{N} \\sum_{t=0}^{N-1}f(t)i\\sin(\\frac{2\\pi kt}{N})$$\n",
        "- To see why the above formula works, let's assume that we have a signal f made from two pure sinusoids, one with frequency f1\n",
        "  and the other with frequency f2. We can represent f mathematically as:\n",
        "  $$ f(t) = \\cos(\\frac{2\\pi f_{1}t}{N}) + \\cos(\\frac{2\\pi f_{2}t}{N}) $$\n",
        "- Let's say, for instance, that we want to compute the magnitude of frequency f1. When we apply the first sum (real part) of the dft\n",
        "  formula, we get:\n",
        "    $$ F[f_{1}] = \\frac{1}{N} \\sum_{t=0}^{N-1}[\\cos(\\frac{2\\pi f_{1}t}{N}) + \\cos(\\frac{2\\pi f_{2}t}{N})]\\cos(\\frac{2\\pi f_{1}t}{N}) $$\n",
        "- After expanding and splitting the sum into two, we get:\n",
        "$$ F[f_{1}] = \\frac{1}{N} \\sum_{t=0}^{N-1}\\cos(\\frac{2\\pi f_{1}t}{N})\\cos(\\frac{2\\pi f_{1}t}{N}) + \\sum_{t=0}^{N-1}\\cos(\\frac{2\\pi f_{1}t}{N})\\cos(\\frac{2\\pi f_{2}t}{N}) $$\n",
        "- The first sum represents the cross-correlation between the sinusoid with frequency f1 and itself, because it is present in\n",
        "  the original signal.\n",
        "- The second sum represents the cross-correlation between the sinusoid with frequency f1 and one with frequency f2. Because the   two signals are not correlated(because they have different frequencies) we expect the sum to be very close to zero.\n",
        "- Thus when we add the two magnitudes, we are adding the correct magnitude plus very small number which has no effect on\n",
        "  the result.\n",
        "- Even when the original signal is made up of thousands of sinusoids, we still end up with the correct magnitude plus or\n",
        "  minus very small perturbation.\n",
        "  \n",
        "References\n",
        "- [1] https://www.ncbi.nlm.nih.gov/pmc/articles/PMC4290461/\n",
        "- [2] https://www.arxiv.org/abs/1811.10708v1"
      ]
    },
    {
      "cell_type": "code",
      "execution_count": null,
      "id": "ed83ec64",
      "metadata": {
        "id": "ed83ec64"
      },
      "outputs": [],
      "source": [
        "import torch\n",
        "import numpy as np\n",
        "import matplotlib.pyplot as plt"
      ]
    },
    {
      "cell_type": "code",
      "execution_count": null,
      "id": "ac9f6a21",
      "metadata": {
        "id": "ac9f6a21"
      },
      "outputs": [],
      "source": [
        "def sin_signal(n, f, amplitude=1): \n",
        "    return amplitude * np.sin(np.linspace(0, 2*np.pi*f, n, endpoint=False))\n",
        "\n",
        "def cos_signal(n, f, amplitude=1): \n",
        "    return amplitude * np.cos(np.linspace(0, 2*np.pi*f, n, endpoint=False))\n",
        "\n",
        "def plot_spec(spec):\n",
        "    plt.figure(figsize=(18, 6))\n",
        "    plt.xlabel('Frequency')\n",
        "    plt.ylabel('Magnitude')\n",
        "    plt.bar(np.arange(len(spec)), np.abs(spec))"
      ]
    },
    {
      "cell_type": "code",
      "execution_count": null,
      "id": "6e889f5f",
      "metadata": {
        "scrolled": false,
        "id": "6e889f5f",
        "outputId": "2855fa4a-daaa-4d89-e57c-ada938d15424"
      },
      "outputs": [
        {
          "data": {
            "image/png": "[encoded data removed]",
            "text/plain": [
              "<Figure size 1296x432 with 1 Axes>"
            ]
          },
          "metadata": {
            "needs_background": "light"
          },
          "output_type": "display_data"
        },
        {
          "data": {
            "image/png": "[encoded data removed]",
            "text/plain": [
              "<Figure size 1296x432 with 1 Axes>"
            ]
          },
          "metadata": {
            "needs_background": "light"
          },
          "output_type": "display_data"
        }
      ],
      "source": [
        "# DFT (NAIVE) IMPLEMENTATION\n",
        "def dft(signal, sample_rate, norm=None):\n",
        "    N = len(signal)\n",
        "    max_freq = sample_rate//2\n",
        "    spectrogram = np.zeros(max_freq+1, dtype=np.complex128)\n",
        "    for f in range(max_freq+1):\n",
        "        real = np.cos((np.arange(N) * 2*np.pi*f) / N)\n",
        "        imag = np.sin((np.arange(N) * 2*np.pi*f) / N) * -1j\n",
        "        if norm == 'forward':\n",
        "            # perform normalization as in the formula.\n",
        "            corr = np.sum(signal * (real + imag)) / N\n",
        "        else:\n",
        "            # Used in practice because it allows for numerical stability especially when N is large.\n",
        "            corr = np.sum(signal * (real + imag))\n",
        "        spectrogram[f] = corr\n",
        "    return spectrogram\n",
        "\n",
        "# A signal composed of pure sine waves with freq 1, 2, 6 and a cosine wave with frequency 8.\n",
        "composite_signal = sin_signal(20, 1) + sin_signal(20, 2) + sin_signal(20, 6) + cos_signal(20, 8, amplitude=2)\n",
        "spec = dft(composite_signal, 20)\n",
        "plot_spec(spec)\n",
        "# For comparison\n",
        "torch_spec = torch.fft.rfft(torch.tensor(composite_signal)).abs()\n",
        "plot_spec(torch_spec)"
      ]
    },
    {
      "cell_type": "markdown",
      "id": "fb1206c5",
      "metadata": {
        "id": "fb1206c5"
      },
      "source": [
        "Mel scale\n",
        "- Human hearing range 20Hz - 20000Hz.\n",
        "- The difference between 100Hz and 200Hz is clear but the difference between 1000Hz, 1100Hz is not noticeable.\n",
        "- We need to find a scale such that the difference between perception of any two equidistant frequencies is the same.\n",
        "- A formula to convert frequency in Hz to mel scale is given by: $$ m = \\log_{10}(1 + \\frac{f}{100}) $$\n",
        "- The formula used for whisper is implemented by Librosa as: $ f / f_{step} $  for f <= 1000 while for higher\n",
        "  frequencies, we have $$ (m_{b} + ln(\\frac{f}{1000})/m_{step}) / f_{step} $$\n",
        "  where $f_{step}=66.67, m_{b}=1000/f_{step}$  and $m_{step}=\\ln(6.4)/27$"
      ]
    },
    {
      "cell_type": "code",
      "execution_count": null,
      "id": "6ed92156",
      "metadata": {
        "id": "6ed92156"
      },
      "outputs": [],
      "source": []
    },
    {
      "cell_type": "code",
      "execution_count": null,
      "id": "dd1170c4",
      "metadata": {
        "id": "dd1170c4"
      },
      "outputs": [],
      "source": []
    }
  ],
  "metadata": {
    "kernelspec": {
      "display_name": "Python 3 (ipykernel)",
      "language": "python",
      "name": "python3"
    },
    "language_info": {
      "codemirror_mode": {
        "name": "ipython",
        "version": 3
      },
      "file_extension": ".py",
      "mimetype": "text/x-python",
      "name": "python",
      "nbconvert_exporter": "python",
      "pygments_lexer": "ipython3",
      "version": "3.9.10"
    },
    "colab": {
      "provenance": []
    }
  },
  "nbformat": 4,
  "nbformat_minor": 5
}